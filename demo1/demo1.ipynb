{
 "cells": [
  {
   "cell_type": "markdown",
   "metadata": {},
   "source": [
    "# _** demo1 **_\n",
    "moving average crossover ratio for ranking<p>\n",
    "bar length, abs(open-close), average and stdev for stoploss"
   ]
  },
  {
   "cell_type": "code",
   "execution_count": null,
   "metadata": {},
   "outputs": [],
   "source": [
    "%reload_ext autoreload\n",
    "%autoreload 2\n",
    "from runall_indexes import runall\n",
    "\n",
    "summary = runall()"
   ]
  },
  {
   "cell_type": "code",
   "execution_count": null,
   "metadata": {},
   "outputs": [],
   "source": [
    "summary = summary.sort_values(by='lperiod')\n",
    "display(summary)"
   ]
  },
  {
   "cell_type": "code",
   "execution_count": null,
   "metadata": {},
   "outputs": [],
   "source": [
    "from backtest.graph_util import plot_multilines_by_category\n",
    "\n",
    "summary2 = summary.groupby(by=[\"lperiod\",\"speriod\"]).mean()\n",
    "summary2.drop(columns=\"maxpos\",inplace=True)\n",
    "summary2.reset_index(inplace=True)\n",
    "print(summary2)\n",
    "plot_multilines_by_category(summary2,category='lperiod',xcol='speriod',ycol='profit')"
   ]
  },
  {
   "cell_type": "code",
   "execution_count": null,
   "metadata": {
    "scrolled": false
   },
   "outputs": [],
   "source": [
    "from backtest.graph_util import create_pivots_by_category,plot_3d_surfaces\n",
    "\n",
    "cat_pivot_pairs = create_pivots_by_category(summary,index=\"speriod\",columns=\"lperiod\",values=\"profit\")\n",
    "plot_3d_surfaces(cat_pivot_pairs,figsize=(15,15),arragement=31)\n"
   ]
  },
  {
   "cell_type": "code",
   "execution_count": null,
   "metadata": {},
   "outputs": [],
   "source": []
  },
  {
   "cell_type": "code",
   "execution_count": null,
   "metadata": {},
   "outputs": [],
   "source": []
  }
 ],
 "metadata": {
  "kernelspec": {
   "display_name": "Python 3",
   "language": "python",
   "name": "python3"
  },
  "language_info": {
   "codemirror_mode": {
    "name": "ipython",
    "version": 3
   },
   "file_extension": ".py",
   "mimetype": "text/x-python",
   "name": "python",
   "nbconvert_exporter": "python",
   "pygments_lexer": "ipython3",
   "version": "3.7.9"
  }
 },
 "nbformat": 4,
 "nbformat_minor": 4
}
